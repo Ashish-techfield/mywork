{
 "cells": [
  {
   "cell_type": "code",
   "execution_count": 1,
   "metadata": {},
   "outputs": [],
   "source": [
    "import numpy as np\n",
    "import matplotlib.pyplot as plt\n",
    "import pandas as pd\n",
    "\n",
    "from scipy.stats import multivariate_normal as mvn\n",
    "from scipy.stats import multinomial as mnd\n",
    "from sklearn.naive_bayes import MultinomialNB\n",
    "from scipy.stats import bernoulli as ber\n",
    "\n",
    "%matplotlib inline"
   ]
  },
  {
   "cell_type": "code",
   "execution_count": 1,
   "metadata": {},
   "outputs": [],
   "source": [
    "class Bayes():\n",
    "    def __init__(self, dist):\n",
    "        self.dist = dist\n",
    "    \n",
    "    def fit(self, X, y, naive = True):\n",
    "        self.likelihoods = dict()\n",
    "        self.priors = dict()\n",
    "        \n",
    "        self.K = set(y.astype(int))\n",
    "        \n",
    "        if self.dist == 'GaussianBayes':\n",
    "            for k in self.K:\n",
    "                X_k = X[y == k,:]\n",
    "                mu_k = X_k.mean(axis=0)\n",
    "                N_k, D = X_k.shape\n",
    "                \n",
    "                if naive == False:\n",
    "                    self.likelihoods[k] = {\"mean\": mu_k, \"cov\":cov((X_k).T, X_k - mu_k) }  #made changes in mean and cov\n",
    "          \n",
    "                    self.priors[k] = len(X_k)/len(X)\n",
    "                else:\n",
    "                    self.likelihoods[k] = {\"mean\": mu_k, \"cov\":X_k.var(axis=0) }  #made changes in mean and cov\n",
    "                    self.priors[k] = len(X_k)/len(X)\n",
    "        \n",
    "        if self.dist == 'MultiNomial':\n",
    "            for k in self.K:\n",
    "                X_k = list(X[y == k,:])\n",
    "                self.likelihoods[k] = {\"n\":len(X_k), \"probability\": [np.sum(X_k, axis = 0)/sum(np.sum(X_k, axis = 0))]}\n",
    "                self.priors[k] = len(X_k)/len(X)\n",
    "                \n",
    "        if self.dist == 'Bernoulli':\n",
    "            for k in self.K:\n",
    "                X_k = X[y == k,:]\n",
    "                self.likelihoods[k] = np.mean(X_k,axis = 0)\n",
    "                self.priors[k] = len(X_k)/len(X)\n",
    "                \n",
    "    def predict(self, X):\n",
    "        N, D = X.shape\n",
    "        \n",
    "        P_hat = np.zeros((N,len(self.K)))\n",
    "            \n",
    "        if self.dist == 'GaussianBayes':\n",
    "            for k, l in self.likelihoods.items():\n",
    "                P_hat[:,k] = mvn.logpdf(X, l[\"mean\"], l[\"cov\"]) + np.log(self.priors[k])\n",
    "                \n",
    "        if self.dist == 'MultiNomial':        \n",
    "            for k, l in self.likelihoods.items():\n",
    "                P_hat[:,k] = mnd.logpmf(X, 1, l[\"probability\"]) + np.log(self.priors[k])\n",
    "                \n",
    "        if self.dist == 'Bernoulli':\n",
    "            for k,l in self.likelihoods.items():\n",
    "                P_hat[:,k] = ber.logpmf(X, list(self.likelihoods[k]), loc = 0) + np.log(self.priors[k])\n",
    "            \n",
    "        return P_hat.argmax(axis = 1)\n",
    "    \n",
    "    "
   ]
  },
  {
   "cell_type": "code",
   "execution_count": null,
   "metadata": {},
   "outputs": [],
   "source": []
  }
 ],
 "metadata": {
  "kernelspec": {
   "display_name": "Python 3",
   "language": "python",
   "name": "python3"
  },
  "language_info": {
   "codemirror_mode": {
    "name": "ipython",
    "version": 3
   },
   "file_extension": ".py",
   "mimetype": "text/x-python",
   "name": "python",
   "nbconvert_exporter": "python",
   "pygments_lexer": "ipython3",
   "version": "3.7.4"
  }
 },
 "nbformat": 4,
 "nbformat_minor": 2
}
